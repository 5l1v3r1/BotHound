{
 "cells": [
  {
   "cell_type": "markdown",
   "metadata": {},
   "source": [
    "Clustering\n",
    "===\n",
    "Bothound project. "
   ]
  },
  {
   "cell_type": "markdown",
   "metadata": {},
   "source": [
    "#Read the features from file"
   ]
  },
  {
   "cell_type": "code",
   "execution_count": 1,
   "metadata": {
    "collapsed": false
   },
   "outputs": [],
   "source": [
    "import numpy as np\n",
    "\n",
    "np.zeros([30000, 2000])\n",
    "len(np.zeros([30000, 2000]))\n",
    "filename = 'feature_db-files.txt'\n",
    "file = open(filename)\n",
    "\n",
    "empty_list =[]   \n",
    "\n",
    "for line in file:\n",
    "    splitted_line = line.split(') {')\n",
    "\n",
    "    useful_part = splitted_line[1]\n",
    "    useful_part = useful_part[:-2]\n",
    "    new_split = useful_part.split(', ')\n",
    "\n",
    "    num_list =[]   \n",
    "    for b in new_split:\n",
    "       c = b.split(': ')[1]\n",
    "       num_list.append(float(c))\n",
    "    empty_list.append(num_list) \n",
    "\n",
    "X = np.array(empty_list)"
   ]
  },
  {
   "cell_type": "markdown",
   "metadata": {},
   "source": [
    "#Clustering"
   ]
  },
  {
   "cell_type": "code",
   "execution_count": 49,
   "metadata": {
    "collapsed": false
   },
   "outputs": [],
   "source": [
    "import sklearn\n",
    "from sklearn.cluster import KMeans\n",
    "from scipy.spatial.distance import cdist,pdist\n",
    "from scipy.signal import argrelextrema"
   ]
  },
  {
   "cell_type": "code",
   "execution_count": 50,
   "metadata": {
    "collapsed": false
   },
   "outputs": [],
   "source": [
    "# perform PCA dimensionality reduction\n",
    "#pca = RandomizedPCA(n_components=2).fit(data['data'])\n",
    "#X = pca.transform(data['data'])"
   ]
  },
  {
   "cell_type": "code",
   "execution_count": 51,
   "metadata": {
    "collapsed": false,
    "scrolled": true
   },
   "outputs": [],
   "source": [
    "#totss = sum(pdist(X)**2)/X.shape[0]       # The total sum of squares\n",
    "#print \"totl ss\", totss"
   ]
  },
  {
   "cell_type": "markdown",
   "metadata": {},
   "source": [
    "#Elbow method"
   ]
  },
  {
   "cell_type": "code",
   "execution_count": 245,
   "metadata": {
    "collapsed": false
   },
   "outputs": [],
   "source": [
    "def get_best_clustering_model(X, max_number_of_clusters):\n",
    "    cost = []\n",
    "    KK = range(1,max_number_of_clusters+1)\n",
    "    kms = []\n",
    "    # calculate all the clustering and cost\n",
    "    for no_of_clusters in KK:\n",
    "        km = KMeans(n_clusters=no_of_clusters, precompute_distances = True, max_iter = 500, n_init = 30)\n",
    "        km.fit(X)\n",
    "        kms.append(km)\n",
    "\n",
    "        #centroids = km.cluster_centers_ \n",
    "        #distances = cdist(X, centroids, 'euclidean')\n",
    "        #cIdx = np.argmin(distances,axis=1) \n",
    "        #dist = np.min(distances,axis=1) \n",
    "        #tot_withinss = sum(dist**2)  # Total within-cluster sum of squares\n",
    "\n",
    "        #cost.append(tot_withinss / X.shape[0]) \n",
    "        cost.append(km.inertia_)\n",
    "    \n",
    "    # calculate first derivative\n",
    "    derivative1 = [cost[i+1]-cost[i] for i in range(len(cost)-1)]\n",
    "    #print derivative1\n",
    "        \n",
    "    # calculate second derivative\n",
    "    derivative2 = [derivative1[i+1]-derivative1[i] for i in range(len(derivative1)-1)]\n",
    "    #print derivative2\n",
    "    \n",
    "    max2 = argrelextrema(np.argsort(derivative2), np.less) \n",
    "    num_clusters = 4 \n",
    "    if(len(max2[0]) > 0):\n",
    "        num_clusters = max2[0][0] + 3\n",
    "    else:\n",
    "        # calculate third derivative\n",
    "        derivative3 = [derivative2[i+1]-derivative2[i] for i in range(len(derivative2)-1)]\n",
    "        #print derivative3\n",
    "\n",
    "        max3 = argrelextrema(np.argsort(derivative3), np.greater) \n",
    "        if(len(max3[0]) > 0):\n",
    "            num_clusters = max3[0][0] + 4 \n",
    "        \n",
    "    return kms[num_clusters-1], cost\n"
   ]
  },
  {
   "cell_type": "code",
   "execution_count": 253,
   "metadata": {
    "collapsed": false
   },
   "outputs": [],
   "source": [
    "max_number_of_clusters = 7\n",
    "model,cost = get_best_clustering_model(X, max_number_of_clusters)"
   ]
  },
  {
   "cell_type": "code",
   "execution_count": 254,
   "metadata": {
    "collapsed": false
   },
   "outputs": [
    {
     "name": "stdout",
     "output_type": "stream",
     "text": [
      "6\n"
     ]
    }
   ],
   "source": [
    "num_clusters = model.n_clusters\n",
    "print num_clusters"
   ]
  },
  {
   "cell_type": "code",
   "execution_count": null,
   "metadata": {
    "collapsed": false
   },
   "outputs": [],
   "source": []
  },
  {
   "cell_type": "code",
   "execution_count": 255,
   "metadata": {
    "collapsed": false
   },
   "outputs": [
    {
     "data": {
      "text/plain": [
       "<matplotlib.text.Text at 0x25e641d0>"
      ]
     },
     "execution_count": 255,
     "metadata": {},
     "output_type": "execute_result"
    },
    {
     "data": {
      "image/png": "[encoded data removed]",
      "text/plain": [
       "<matplotlib.figure.Figure at 0x24a00710>"
      ]
     },
     "metadata": {},
     "output_type": "display_data"
    }
   ],
   "source": [
    "%matplotlib inline\n",
    "from matplotlib import pyplot as plt\n",
    "from matplotlib import cm\n",
    "\n",
    "KK = range(1,max_number_of_clusters+1)\n",
    "\n",
    "# elbow curve\n",
    "kIdx = num_clusters      \n",
    "clr = cm.spectral( np.linspace(0,1,10) ).tolist()\n",
    "mrk = 'os^p<dvh8>+x.'\n",
    "\n",
    "fig = plt.figure()\n",
    "ax = fig.add_subplot(111)\n",
    "ax.plot(KK, cost, 'b*-')\n",
    "ax.plot(num_clusters, cost[num_clusters-1], marker='o', markersize=14, \n",
    "    markeredgewidth=2, markeredgecolor='r', markerfacecolor='None')\n",
    "#ax.set_ylim((0,100))\n",
    "plt.grid(True)\n",
    "plt.xlabel('Number of clusters')\n",
    "#plt.ylabel('Percentage of variance explained (%)')\n",
    "plt.ylabel('Average within sum of squeres')\n",
    "plt.title('Elbow for KMeans clustering')\n",
    "\n"
   ]
  },
  {
   "cell_type": "markdown",
   "metadata": {
    "collapsed": false
   },
   "source": [
    "#Find the maximum cluster"
   ]
  },
  {
   "cell_type": "code",
   "execution_count": 256,
   "metadata": {
    "collapsed": false
   },
   "outputs": [],
   "source": [
    "def get_max_cluster_size_in_percentage(X, model):\n",
    "    sizes = [0]*model.n_clusters\n",
    "\n",
    "    for i in model.predict(X): \n",
    "        sizes[i] = sizes[i]+1\n",
    "    print sizes\n",
    "    index_max = sizes.index(max(sizes))\n",
    "\n",
    "    return float(sizes[index_max])/ X.shape[0] * 100"
   ]
  },
  {
   "cell_type": "code",
   "execution_count": 257,
   "metadata": {
    "collapsed": false
   },
   "outputs": [
    {
     "name": "stdout",
     "output_type": "stream",
     "text": [
      "[17319, 4, 61, 761, 3509, 10]\n",
      "79.9436853767\n"
     ]
    }
   ],
   "source": [
    "print get_max_cluster_size_in_percentage(X, model)\n"
   ]
  },
  {
   "cell_type": "code",
   "execution_count": null,
   "metadata": {
    "collapsed": false
   },
   "outputs": [],
   "source": []
  },
  {
   "cell_type": "code",
   "execution_count": null,
   "metadata": {
    "collapsed": true
   },
   "outputs": [],
   "source": []
  }
 ],
 "metadata": {
  "kernelspec": {
   "display_name": "Python 2",
   "language": "python",
   "name": "python2"
  },
  "language_info": {
   "codemirror_mode": {
    "name": "ipython",
    "version": 2
   },
   "file_extension": ".py",
   "mimetype": "text/x-python",
   "name": "python",
   "nbconvert_exporter": "python",
   "pygments_lexer": "ipython2",
   "version": "2.7.10"
  }
 },
 "nbformat": 4,
 "nbformat_minor": 0
}
