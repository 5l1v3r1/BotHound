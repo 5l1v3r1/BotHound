{
 "cells": [
  {
   "cell_type": "markdown",
   "metadata": {},
   "source": [
    "Clustering\n",
    "===\n",
    "Bothound project. "
   ]
  },
  {
   "cell_type": "markdown",
   "metadata": {},
   "source": [
    "#Read the features from file"
   ]
  },
  {
   "cell_type": "code",
   "execution_count": 3,
   "metadata": {
    "collapsed": false
   },
   "outputs": [],
   "source": [
    "import numpy as np\n",
    "\n",
    "np.zeros([30000, 2000])\n",
    "len(np.zeros([30000, 2000]))\n",
    "filename = 'feature_db-files.txt'\n",
    "file = open(filename)\n",
    "\n",
    "empty_list =[]   \n",
    "\n",
    "for line in file:\n",
    "    splitted_line = line.split(') {')\n",
    "\n",
    "    useful_part = splitted_line[1]\n",
    "    useful_part = useful_part[:-2]\n",
    "    new_split = useful_part.split(', ')\n",
    "\n",
    "    num_list =[]   \n",
    "    for b in new_split:\n",
    "       c = b.split(': ')[1]\n",
    "       num_list.append(float(c))\n",
    "    empty_list.append(num_list) \n",
    "\n",
    "X = np.array(empty_list)"
   ]
  },
  {
   "cell_type": "markdown",
   "metadata": {},
   "source": [
    "#Clustering"
   ]
  },
  {
   "cell_type": "code",
   "execution_count": 49,
   "metadata": {
    "collapsed": false
   },
   "outputs": [],
   "source": [
    "import sklearn\n",
    "from sklearn.cluster import KMeans\n",
    "from scipy.spatial.distance import cdist,pdist\n",
    "from scipy.signal import argrelextrema"
   ]
  },
  {
   "cell_type": "code",
   "execution_count": 50,
   "metadata": {
    "collapsed": false
   },
   "outputs": [],
   "source": [
    "# perform PCA dimensionality reduction\n",
    "#pca = RandomizedPCA(n_components=2).fit(data['data'])\n",
    "#X = pca.transform(data['data'])"
   ]
  },
  {
   "cell_type": "code",
   "execution_count": 51,
   "metadata": {
    "collapsed": false,
    "scrolled": true
   },
   "outputs": [],
   "source": [
    "#totss = sum(pdist(X)**2)/X.shape[0]       # The total sum of squares\n",
    "#print \"totl ss\", totss"
   ]
  },
  {
   "cell_type": "markdown",
   "metadata": {},
   "source": [
    "#Elbow method"
   ]
  },
  {
   "cell_type": "code",
   "execution_count": 245,
   "metadata": {
    "collapsed": false
   },
   "outputs": [],
   "source": [
    "def get_best_clustering_model(X, max_number_of_clusters):\n",
    "    cost = []\n",
    "    KK = range(1,max_number_of_clusters+1)\n",
    "    kms = []\n",
    "    # calculate all the clustering and cost\n",
    "    for no_of_clusters in KK:\n",
    "        km = KMeans(n_clusters=no_of_clusters, precompute_distances = True, max_iter = 500, n_init = 30)\n",
    "        km.fit(X)\n",
    "        kms.append(km)\n",
    "\n",
    "        #centroids = km.cluster_centers_ \n",
    "        #distances = cdist(X, centroids, 'euclidean')\n",
    "        #cIdx = np.argmin(distances,axis=1) \n",
    "        #dist = np.min(distances,axis=1) \n",
    "        #tot_withinss = sum(dist**2)  # Total within-cluster sum of squares\n",
    "\n",
    "        #cost.append(tot_withinss / X.shape[0]) \n",
    "        cost.append(km.inertia_)\n",
    "    \n",
    "    # calculate first derivative\n",
    "    derivative1 = [cost[i+1]-cost[i] for i in range(len(cost)-1)]\n",
    "    #print derivative1\n",
    "        \n",
    "    # calculate second derivative\n",
    "    derivative2 = [derivative1[i+1]-derivative1[i] for i in range(len(derivative1)-1)]\n",
    "    #print derivative2\n",
    "    \n",
    "    max2 = argrelextrema(np.argsort(derivative2), np.less) \n",
    "    num_clusters = 4 \n",
    "    if(len(max2[0]) > 0):\n",
    "        num_clusters = max2[0][0] + 3\n",
    "    else:\n",
    "        # calculate third derivative\n",
    "        derivative3 = [derivative2[i+1]-derivative2[i] for i in range(len(derivative2)-1)]\n",
    "        #print derivative3\n",
    "\n",
    "        max3 = argrelextrema(np.argsort(derivative3), np.greater) \n",
    "        if(len(max3[0]) > 0):\n",
    "            num_clusters = max3[0][0] + 4 \n",
    "        \n",
    "    return kms[num_clusters-1], cost\n"
   ]
  },
  {
   "cell_type": "code",
   "execution_count": 263,
   "metadata": {
    "collapsed": false
   },
   "outputs": [],
   "source": [
    "max_number_of_clusters = 14\n",
    "model,cost = get_best_clustering_model(X, max_number_of_clusters)"
   ]
  },
  {
   "cell_type": "code",
   "execution_count": 264,
   "metadata": {
    "collapsed": false
   },
   "outputs": [
    {
     "name": "stdout",
     "output_type": "stream",
     "text": [
      "5\n"
     ]
    }
   ],
   "source": [
    "num_clusters = model.n_clusters\n",
    "print num_clusters"
   ]
  },
  {
   "cell_type": "code",
   "execution_count": null,
   "metadata": {
    "collapsed": false
   },
   "outputs": [],
   "source": []
  },
  {
   "cell_type": "code",
   "execution_count": 265,
   "metadata": {
    "collapsed": false
   },
   "outputs": [
    {
     "data": {
      "text/plain": [
       "<matplotlib.text.Text at 0x261efbe0>"
      ]
     },
     "execution_count": 265,
     "metadata": {},
     "output_type": "execute_result"
    },
    {
     "data": {
      "image/png": "[encoded data removed]",
      "text/plain": [
       "<matplotlib.figure.Figure at 0x25a65390>"
      ]
     },
     "metadata": {},
     "output_type": "display_data"
    }
   ],
   "source": [
    "%matplotlib inline\n",
    "from matplotlib import pyplot as plt\n",
    "from matplotlib import cm\n",
    "\n",
    "KK = range(1,max_number_of_clusters+1)\n",
    "\n",
    "# elbow curve\n",
    "kIdx = num_clusters      \n",
    "clr = cm.spectral( np.linspace(0,1,10) ).tolist()\n",
    "mrk = 'os^p<dvh8>+x.'\n",
    "\n",
    "fig = plt.figure()\n",
    "ax = fig.add_subplot(111)\n",
    "ax.plot(KK, cost, 'b*-')\n",
    "ax.plot(num_clusters, cost[num_clusters-1], marker='o', markersize=14, \n",
    "    markeredgewidth=2, markeredgecolor='r', markerfacecolor='None')\n",
    "#ax.set_ylim((0,100))\n",
    "plt.grid(True)\n",
    "plt.xlabel('Number of clusters')\n",
    "#plt.ylabel('Percentage of variance explained (%)')\n",
    "plt.ylabel('Average within sum of squeres')\n",
    "plt.title('Elbow for KMeans clustering')\n",
    "\n"
   ]
  },
  {
   "cell_type": "markdown",
   "metadata": {
    "collapsed": false
   },
   "source": [
    "#Find the maximum cluster"
   ]
  },
  {
   "cell_type": "code",
   "execution_count": 266,
   "metadata": {
    "collapsed": false
   },
   "outputs": [],
   "source": [
    "def get_max_cluster_size_in_percentage(X, model):\n",
    "    sizes = [0]*model.n_clusters\n",
    "\n",
    "    for i in model.predict(X): \n",
    "        sizes[i] = sizes[i]+1\n",
    "    print sizes\n",
    "    index_max = sizes.index(max(sizes))\n",
    "\n",
    "    return float(sizes[index_max])/ X.shape[0] * 100"
   ]
  },
  {
   "cell_type": "code",
   "execution_count": 262,
   "metadata": {
    "collapsed": false
   },
   "outputs": [
    {
     "name": "stdout",
     "output_type": "stream",
     "text": [
      "[20552, 4, 62, 1036, 10]\n",
      "94.8670605613\n"
     ]
    }
   ],
   "source": [
    "print get_max_cluster_size_in_percentage(X, model)\n"
   ]
  },
  {
   "cell_type": "markdown",
   "metadata": {
    "collapsed": false
   },
   "source": [
    "#DBSCAN clustering"
   ]
  },
  {
   "cell_type": "code",
   "execution_count": 6,
   "metadata": {
    "collapsed": true
   },
   "outputs": [],
   "source": [
    "from sklearn.cluster import DBSCAN"
   ]
  },
  {
   "cell_type": "code",
   "execution_count": 52,
   "metadata": {
    "collapsed": false
   },
   "outputs": [],
   "source": [
    "# Compute DBSCAN\n",
    "db = DBSCAN(eps=0.1, min_samples=20).fit(X)"
   ]
  },
  {
   "cell_type": "code",
   "execution_count": 53,
   "metadata": {
    "collapsed": false
   },
   "outputs": [
    {
     "name": "stdout",
     "output_type": "stream",
     "text": [
      "Estimated number of clusters: 51\n"
     ]
    }
   ],
   "source": [
    "core_samples_mask = np.zeros_like(db.labels_, dtype=bool)\n",
    "core_samples_mask[db.core_sample_indices_] = True\n",
    "labels = db.labels_\n",
    "\n",
    "# Number of clusters in labels, ignoring noise if present.\n",
    "n_clusters_ = len(set(labels)) - (1 if -1 in labels else 0)\n",
    "\n",
    "print('Estimated number of clusters: %d' % n_clusters_)\n"
   ]
  },
  {
   "cell_type": "code",
   "execution_count": 64,
   "metadata": {
    "collapsed": false
   },
   "outputs": [
    {
     "data": {
      "text/plain": [
       "21664"
      ]
     },
     "execution_count": 64,
     "metadata": {},
     "output_type": "execute_result"
    }
   ],
   "source": [
    "len(labels)"
   ]
  },
  {
   "cell_type": "code",
   "execution_count": null,
   "metadata": {
    "collapsed": false
   },
   "outputs": [],
   "source": []
  },
  {
   "cell_type": "code",
   "execution_count": 63,
   "metadata": {
    "collapsed": false
   },
   "outputs": [
    {
     "data": {
      "text/plain": [
       "(array([ 17761.,    104.,     55.,    935.,    309.,     33.,    208.,\n",
       "            58.,     36.,    197.,     21.,     24.,     38.,     21.,\n",
       "           291.,    163.,    106.,     46.,    128.,     20.,     59.,\n",
       "            34.,     27.,     29.,     24.,     44.,     28.,     23.,\n",
       "            27.,     26.,     25.,     21.,     53.,     54.,     25.,\n",
       "           165.,     67.,     20.,     26.,     43.,     25.,     29.,\n",
       "            26.,     20.,     27.,     22.,     24.,     21.,     21.,\n",
       "            24.,     24.,     27.]),\n",
       " array([ -1.00000000e+00,  -1.92307692e-02,   9.61538462e-01,\n",
       "          1.94230769e+00,   2.92307692e+00,   3.90384615e+00,\n",
       "          4.88461538e+00,   5.86538462e+00,   6.84615385e+00,\n",
       "          7.82692308e+00,   8.80769231e+00,   9.78846154e+00,\n",
       "          1.07692308e+01,   1.17500000e+01,   1.27307692e+01,\n",
       "          1.37115385e+01,   1.46923077e+01,   1.56730769e+01,\n",
       "          1.66538462e+01,   1.76346154e+01,   1.86153846e+01,\n",
       "          1.95961538e+01,   2.05769231e+01,   2.15576923e+01,\n",
       "          2.25384615e+01,   2.35192308e+01,   2.45000000e+01,\n",
       "          2.54807692e+01,   2.64615385e+01,   2.74423077e+01,\n",
       "          2.84230769e+01,   2.94038462e+01,   3.03846154e+01,\n",
       "          3.13653846e+01,   3.23461538e+01,   3.33269231e+01,\n",
       "          3.43076923e+01,   3.52884615e+01,   3.62692308e+01,\n",
       "          3.72500000e+01,   3.82307692e+01,   3.92115385e+01,\n",
       "          4.01923077e+01,   4.11730769e+01,   4.21538462e+01,\n",
       "          4.31346154e+01,   4.41153846e+01,   4.50961538e+01,\n",
       "          4.60769231e+01,   4.70576923e+01,   4.80384615e+01,\n",
       "          4.90192308e+01,   5.00000000e+01]),\n",
       " <a list of 52 Patch objects>)"
      ]
     },
     "execution_count": 63,
     "metadata": {},
     "output_type": "execute_result"
    },
    {
     "data": {
      "image/png": "[encoded data removed]",
      "text/plain": [
       "<matplotlib.figure.Figure at 0x2078a748>"
      ]
     },
     "metadata": {},
     "output_type": "display_data"
    }
   ],
   "source": [
    "%matplotlib inline\n",
    "import matplotlib.pyplot as plt\n",
    "plt.hist(labels, bins = n_clusters_+1)"
   ]
  },
  {
   "cell_type": "code",
   "execution_count": null,
   "metadata": {
    "collapsed": false
   },
   "outputs": [],
   "source": [
    "\n",
    "\n"
   ]
  },
  {
   "cell_type": "code",
   "execution_count": null,
   "metadata": {
    "collapsed": true
   },
   "outputs": [],
   "source": []
  }
 ],
 "metadata": {
  "kernelspec": {
   "display_name": "Python 2",
   "language": "python",
   "name": "python2"
  },
  "language_info": {
   "codemirror_mode": {
    "name": "ipython",
    "version": 2
   },
   "file_extension": ".py",
   "mimetype": "text/x-python",
   "name": "python",
   "nbconvert_exporter": "python",
   "pygments_lexer": "ipython2",
   "version": "2.7.10"
  }
 },
 "nbformat": 4,
 "nbformat_minor": 0
}
